{
  "cells": [
    {
      "cell_type": "code",
      "source": [
        "import tensorflow as tf"
      ],
      "metadata": {
        "id": "KCUb7oLKik9z"
      },
      "execution_count": null,
      "outputs": []
    },
    {
      "cell_type": "code",
      "source": [
        "from tensorflow import keras"
      ],
      "metadata": {
        "id": "s03kYxlrik4F"
      },
      "execution_count": null,
      "outputs": []
    },
    {
      "cell_type": "code",
      "source": [
        "from keras.preprocessing.image import ImageDataGenerator"
      ],
      "metadata": {
        "id": "iFON29vBikqU"
      },
      "execution_count": null,
      "outputs": []
    },
    {
      "cell_type": "code",
      "source": [
        "from google.colab import drive\n",
        "drive.mount('/content/drive')"
      ],
      "metadata": {
        "colab": {
          "base_uri": "https://localhost:8080/"
        },
        "id": "ffWYc8WCitsu",
        "outputId": "b419265f-b746-4347-c122-105a0ff38a42"
      },
      "execution_count": null,
      "outputs": [
        {
          "output_type": "stream",
          "name": "stdout",
          "text": [
            "Drive already mounted at /content/drive; to attempt to forcibly remount, call drive.mount(\"/content/drive\", force_remount=True).\n"
          ]
        }
      ]
    },
    {
      "cell_type": "code",
      "source": [
        "import zipfile\n",
        "import os\n",
        "\n",
        "zip_train=zipfile.ZipFile('/content/drive/MyDrive/archive.zip','r')\n",
        "zip_train.extractall('/breastcancer')\n",
        "zip_train.close()"
      ],
      "metadata": {
        "id": "TvzRNZknitjh"
      },
      "execution_count": null,
      "outputs": []
    },
    {
      "cell_type": "code",
      "execution_count": null,
      "metadata": {
        "id": "6QnmuEpCiP9k"
      },
      "outputs": [],
      "source": [
        "from tensorflow.keras.preprocessing.image import ImageDataGenerator\n",
        "from tensorflow.keras.models import Sequential\n",
        "from tensorflow.keras.layers import Dense\n",
        "from tensorflow.keras.layers import Convolution2D\n",
        "from tensorflow.keras.layers import MaxPooling2D\n",
        "from tensorflow.keras.layers import Flatten"
      ]
    },
    {
      "cell_type": "code",
      "execution_count": null,
      "metadata": {
        "id": "D6EtxP0aiP9l"
      },
      "outputs": [],
      "source": [
        "train_datagen = ImageDataGenerator(rescale = 1./255,shear_range = 0.2,zoom_range = 0.2,horizontal_flip = True)\n",
        "test_datagen =ImageDataGenerator(rescale = 1)"
      ]
    },
    {
      "cell_type": "code",
      "execution_count": null,
      "metadata": {
        "colab": {
          "base_uri": "https://localhost:8080/"
        },
        "id": "jdpSR0w8iP9m",
        "outputId": "9d151a32-4a3c-4a46-da88-943ebb74ce01"
      },
      "outputs": [
        {
          "output_type": "stream",
          "name": "stdout",
          "text": [
            "Found 555048 images belonging to 280 classes.\n",
            "Found 555048 images belonging to 280 classes.\n"
          ]
        }
      ],
      "source": [
        "x_train = train_datagen.flow_from_directory('/breastcancer',target_size = (64,64),batch_size = 10, class_mode = 'binary')\n",
        "x_test =  test_datagen.flow_from_directory('/breastcancer',target_size = (64,64),batch_size = 10, class_mode = 'binary')"
      ]
    },
    {
      "cell_type": "code",
      "execution_count": null,
      "metadata": {
        "colab": {
          "base_uri": "https://localhost:8080/"
        },
        "id": "J8NiwJsQiP9m",
        "outputId": "b5bc291a-1f7d-47aa-e72e-cfe1272a104c"
      },
      "outputs": [
        {
          "output_type": "stream",
          "name": "stdout",
          "text": [
            "{'10253': 0, '10254': 1, '10255': 2, '10256': 3, '10257': 4, '10258': 5, '10259': 6, '10260': 7, '10261': 8, '10262': 9, '10264': 10, '10268': 11, '10269': 12, '10272': 13, '10273': 14, '10274': 15, '10275': 16, '10276': 17, '10277': 18, '10278': 19, '10279': 20, '10282': 21, '10285': 22, '10286': 23, '10288': 24, '10290': 25, '10291': 26, '10292': 27, '10293': 28, '10295': 29, '10299': 30, '10300': 31, '10301': 32, '10302': 33, '10303': 34, '10304': 35, '10305': 36, '10306': 37, '10307': 38, '10308': 39, '12241': 40, '12242': 41, '12626': 42, '12748': 43, '12749': 44, '12750': 45, '12751': 46, '12752': 47, '12810': 48, '12811': 49, '12817': 50, '12818': 51, '12819': 52, '12820': 53, '12821': 54, '12822': 55, '12823': 56, '12824': 57, '12826': 58, '12867': 59, '12868': 60, '12869': 61, '12870': 62, '12871': 63, '12872': 64, '12873': 65, '12875': 66, '12876': 67, '12877': 68, '12878': 69, '12879': 70, '12880': 71, '12881': 72, '12882': 73, '12883': 74, '12884': 75, '12886': 76, '12890': 77, '12891': 78, '12892': 79, '12893': 80, '12894': 81, '12895': 82, '12896': 83, '12897': 84, '12898': 85, '12900': 86, '12901': 87, '12905': 88, '12906': 89, '12907': 90, '12908': 91, '12909': 92, '12910': 93, '12911': 94, '12929': 95, '12930': 96, '12931': 97, '12932': 98, '12933': 99, '12934': 100, '12935': 101, '12947': 102, '12948': 103, '12949': 104, '12951': 105, '12954': 106, '12955': 107, '13018': 108, '13019': 109, '13020': 110, '13021': 111, '13022': 112, '13023': 113, '13024': 114, '13025': 115, '13106': 116, '13400': 117, '13401': 118, '13402': 119, '13403': 120, '13404': 121, '13458': 122, '13459': 123, '13460': 124, '13461': 125, '13462': 126, '13591': 127, '13613': 128, '13616': 129, '13617': 130, '13666': 131, '13687': 132, '13688': 133, '13689': 134, '13691': 135, '13692': 136, '13693': 137, '13694': 138, '13916': 139, '14078': 140, '14079': 141, '14081': 142, '14082': 143, '14153': 144, '14154': 145, '14155': 146, '14156': 147, '14157': 148, '14188': 149, '14189': 150, '14190': 151, '14191': 152, '14192': 153, '14209': 154, '14210': 155, '14211': 156, '14212': 157, '14213': 158, '14304': 159, '14305': 160, '14306': 161, '14321': 162, '15471': 163, '15472': 164, '15473': 165, '15510': 166, '15512': 167, '15513': 168, '15514': 169, '15515': 170, '15516': 171, '15632': 172, '15633': 173, '15634': 174, '15839': 175, '15840': 176, '15902': 177, '15903': 178, '16014': 179, '16085': 180, '16165': 181, '16166': 182, '16167': 183, '16531': 184, '16532': 185, '16533': 186, '16534': 187, '16550': 188, '16551': 189, '16552': 190, '16553': 191, '16554': 192, '16555': 193, '16568': 194, '16569': 195, '16570': 196, '16895': 197, '16896': 198, '8863': 199, '8864': 200, '8865': 201, '8867': 202, '8913': 203, '8914': 204, '8916': 205, '8917': 206, '8918': 207, '8950': 208, '8951': 209, '8955': 210, '8956': 211, '8957': 212, '8959': 213, '8974': 214, '8975': 215, '8980': 216, '8984': 217, '9022': 218, '9023': 219, '9029': 220, '9035': 221, '9036': 222, '9037': 223, '9041': 224, '9043': 225, '9044': 226, '9073': 227, '9075': 228, '9076': 229, '9077': 230, '9078': 231, '9081': 232, '9083': 233, '9123': 234, '9124': 235, '9125': 236, '9126': 237, '9135': 238, '9173': 239, '9174': 240, '9175': 241, '9176': 242, '9177': 243, '9178': 244, '9181': 245, '9225': 246, '9226': 247, '9227': 248, '9228': 249, '9250': 250, '9254': 251, '9255': 252, '9256': 253, '9257': 254, '9258': 255, '9259': 256, '9260': 257, '9261': 258, '9262': 259, '9265': 260, '9266': 261, '9267': 262, '9290': 263, '9291': 264, '9319': 265, '9320': 266, '9321': 267, '9322': 268, '9323': 269, '9324': 270, '9325': 271, '9344': 272, '9345': 273, '9346': 274, '9347': 275, '9381': 276, '9382': 277, '9383': 278, 'IDC_regular_ps50_idx5': 279}\n"
          ]
        }
      ],
      "source": [
        "print(x_train.class_indices)"
      ]
    },
    {
      "cell_type": "code",
      "execution_count": null,
      "metadata": {
        "id": "v_rZ3w9QiP9m"
      },
      "outputs": [],
      "source": [
        "model = Sequential()"
      ]
    },
    {
      "cell_type": "code",
      "execution_count": null,
      "metadata": {
        "id": "AsrhGoRQiP9n"
      },
      "outputs": [],
      "source": [
        "model.add(Convolution2D(32,(3,3),input_shape=(64,64,3),activation='relu'))\n",
        "model.add(MaxPooling2D(2,2))\n",
        "model.add(Flatten())\n",
        "model.add(Dense(kernel_initializer='uniform',activation='relu',units=150))\n",
        "model.add(Dense(kernel_initializer='uniform',activation='sigmoid',units=1))\n",
        "model.compile(loss='binary_crossentropy', optimizer='adam', metrics=['acc'])"
      ]
    },
    {
      "cell_type": "code",
      "execution_count": null,
      "metadata": {
        "colab": {
          "base_uri": "https://localhost:8080/"
        },
        "id": "43LD5uJJiP9n",
        "outputId": "a3ca9bc0-5808-4fb3-b4f5-c6897722fa77"
      },
      "outputs": [
        {
          "output_type": "stream",
          "name": "stdout",
          "text": [
            "Epoch 1/20\n",
            "5550/5550 [==============================] - 917s 165ms/step - loss: -1435422818304.0000 - acc: 0.0018 - val_loss: -1256362759684096.0000 - val_acc: 0.0015\n",
            "Epoch 2/20\n",
            "5550/5550 [==============================] - 789s 142ms/step - loss: -15198283890688.0000 - acc: 0.0020 - val_loss: -7142728181743616.0000 - val_acc: 0.0015\n",
            "Epoch 3/20\n",
            "5550/5550 [==============================] - 698s 126ms/step - loss: -53154364260352.0000 - acc: 0.0017 - val_loss: -20153861306056704.0000 - val_acc: 0.0016\n",
            "Epoch 4/20\n",
            "5550/5550 [==============================] - 715s 129ms/step - loss: -125512953364480.0000 - acc: 0.0015 - val_loss: -42631209724936192.0000 - val_acc: 0.0016\n",
            "Epoch 5/20\n",
            "5550/5550 [==============================] - 684s 123ms/step - loss: -241809980653568.0000 - acc: 0.0017 - val_loss: -77151107423404032.0000 - val_acc: 0.0017\n",
            "Epoch 6/20\n",
            "5550/5550 [==============================] - 709s 128ms/step - loss: -410536730689536.0000 - acc: 0.0015 - val_loss: -125328485727076352.0000 - val_acc: 0.0015\n",
            "Epoch 7/20\n",
            "5550/5550 [==============================] - 695s 125ms/step - loss: -645196228329472.0000 - acc: 0.0014 - val_loss: -190826204415131648.0000 - val_acc: 0.0015\n",
            "Epoch 8/20\n",
            "5550/5550 [==============================] - 719s 130ms/step - loss: -946249545023488.0000 - acc: 0.0015 - val_loss: -275182935521361920.0000 - val_acc: 0.0013\n",
            "Epoch 9/20\n",
            "5550/5550 [==============================] - 695s 125ms/step - loss: -1336822932176896.0000 - acc: 0.0015 - val_loss: -379943699041222656.0000 - val_acc: 0.0016\n",
            "Epoch 10/20\n",
            "5550/5550 [==============================] - 813s 146ms/step - loss: -1811339911626752.0000 - acc: 0.0016 - val_loss: -507747151082684416.0000 - val_acc: 0.0017\n",
            "Epoch 11/20\n",
            "5550/5550 [==============================] - 719s 129ms/step - loss: -2391919900491776.0000 - acc: 0.0015 - val_loss: -662659783861469184.0000 - val_acc: 0.0015\n",
            "Epoch 12/20\n",
            "5550/5550 [==============================] - 724s 131ms/step - loss: -3079536916824064.0000 - acc: 0.0015 - val_loss: -844094252009914368.0000 - val_acc: 0.0016\n",
            "Epoch 13/20\n",
            "5550/5550 [==============================] - 725s 131ms/step - loss: -3905166264762368.0000 - acc: 0.0013 - val_loss: -1056162625936687104.0000 - val_acc: 0.0017\n",
            "Epoch 14/20\n",
            "5550/5550 [==============================] - 718s 129ms/step - loss: -4819851491147776.0000 - acc: 0.0016 - val_loss: -1297459729781489664.0000 - val_acc: 0.0014\n",
            "Epoch 15/20\n",
            "5550/5550 [==============================] - 736s 133ms/step - loss: -5902014672273408.0000 - acc: 0.0017 - val_loss: -1586250032229646336.0000 - val_acc: 0.0017\n",
            "Epoch 16/20\n",
            "5550/5550 [==============================] - 701s 126ms/step - loss: -7123062063366144.0000 - acc: 0.0017 - val_loss: -1899189045997600768.0000 - val_acc: 0.0013\n",
            "Epoch 17/20\n",
            "5550/5550 [==============================] - 711s 128ms/step - loss: -8518630081822720.0000 - acc: 0.0017 - val_loss: -2251394093894598656.0000 - val_acc: 0.0016\n",
            "Epoch 18/20\n",
            "5550/5550 [==============================] - 851s 153ms/step - loss: -10051216683827200.0000 - acc: 0.0016 - val_loss: -2662181258758455296.0000 - val_acc: 0.0015\n",
            "Epoch 19/20\n",
            "5550/5550 [==============================] - 751s 135ms/step - loss: -11777927754547200.0000 - acc: 0.0018 - val_loss: -3104089825368604672.0000 - val_acc: 0.0015\n",
            "Epoch 20/20\n",
            "5550/5550 [==============================] - 712s 128ms/step - loss: -13739422138761216.0000 - acc: 0.0014 - val_loss: -3594611924211335168.0000 - val_acc: 0.0013\n"
          ]
        },
        {
          "output_type": "execute_result",
          "data": {
            "text/plain": [
              "<keras.src.callbacks.History at 0x7a318dfff970>"
            ]
          },
          "metadata": {},
          "execution_count": 21
        }
      ],
      "source": [
        "model.fit(x_train,steps_per_epoch = len(x_train)//10,epochs=20, validation_data=x_test,validation_steps = len(x_test)//10)"
      ]
    },
    {
      "cell_type": "code",
      "execution_count": null,
      "metadata": {
        "colab": {
          "base_uri": "https://localhost:8080/"
        },
        "id": "8Hxa3dtJiP9n",
        "outputId": "e89a54ee-13a9-4004-81a7-f585e646770c"
      },
      "outputs": [
        {
          "output_type": "stream",
          "name": "stderr",
          "text": [
            "/usr/local/lib/python3.10/dist-packages/keras/src/engine/training.py:3000: UserWarning: You are saving your model as an HDF5 file via `model.save()`. This file format is considered legacy. We recommend using instead the native Keras format, e.g. `model.save('my_model.keras')`.\n",
            "  saving_api.save_model(\n"
          ]
        }
      ],
      "source": [
        "model.save(\"breastcancer.h5\")"
      ]
    },
    {
      "cell_type": "code",
      "execution_count": null,
      "metadata": {
        "id": "o0xPGHSZiP9n"
      },
      "outputs": [],
      "source": [
        "from keras.models  import load_model\n",
        "from tensorflow.keras.preprocessing import image\n",
        "import numpy as np"
      ]
    },
    {
      "cell_type": "code",
      "execution_count": null,
      "metadata": {
        "id": "5CREliAfiP9n"
      },
      "outputs": [],
      "source": [
        "model = load_model(\"breastcancer.h5\")"
      ]
    },
    {
      "cell_type": "code",
      "execution_count": null,
      "metadata": {
        "id": "pe0B-Q3LiP9o"
      },
      "outputs": [],
      "source": [
        "img = image.load_img(r\"/breastcancer/10253/0/10253_idx5_x1001_y1001_class0.png\",target_size = (64,64))"
      ]
    },
    {
      "cell_type": "code",
      "source": [
        "img"
      ],
      "metadata": {
        "id": "Tyi_-f5ZgXF0",
        "outputId": "feb0772c-900f-4f09-b8c2-fbf29c1cad9b",
        "colab": {
          "base_uri": "https://localhost:8080/",
          "height": 81
        }
      },
      "execution_count": null,
      "outputs": [
        {
          "output_type": "execute_result",
          "data": {
            "text/plain": [
              "<PIL.Image.Image image mode=RGB size=64x64>"
            ],
            "image/png": "[encoded data removed]"
          },
          "metadata": {},
          "execution_count": 29
        }
      ]
    },
    {
      "cell_type": "code",
      "execution_count": null,
      "metadata": {
        "id": "4BfyCsjaiP9o"
      },
      "outputs": [],
      "source": [
        "x  = image.img_to_array(img)\n",
        "x = np.expand_dims(x,axis = 0)"
      ]
    },
    {
      "cell_type": "code",
      "execution_count": null,
      "metadata": {
        "colab": {
          "base_uri": "https://localhost:8080/"
        },
        "id": "QxXJqdSKiP9o",
        "outputId": "4260ba34-d96c-438d-d554-6650b3b111c9"
      },
      "outputs": [
        {
          "output_type": "stream",
          "name": "stdout",
          "text": [
            "1/1 [==============================] - 0s 475ms/step\n"
          ]
        }
      ],
      "source": [
        "pred = model.predict(x)"
      ]
    },
    {
      "cell_type": "code",
      "execution_count": null,
      "metadata": {
        "colab": {
          "base_uri": "https://localhost:8080/"
        },
        "id": "sIXY-KTOiP9o",
        "outputId": "e85f008c-c8dd-49af-efc4-6f4ada571926"
      },
      "outputs": [
        {
          "output_type": "execute_result",
          "data": {
            "text/plain": [
              "array([[1.]], dtype=float32)"
            ]
          },
          "metadata": {},
          "execution_count": 28
        }
      ],
      "source": [
        "pred"
      ]
    }
  ],
  "metadata": {
    "kernelspec": {
      "display_name": "Python 3 (ipykernel)",
      "language": "python",
      "name": "python3"
    },
    "language_info": {
      "codemirror_mode": {
        "name": "ipython",
        "version": 3
      },
      "file_extension": ".py",
      "mimetype": "text/x-python",
      "name": "python",
      "nbconvert_exporter": "python",
      "pygments_lexer": "ipython3",
      "version": "3.9.12"
    },
    "colab": {
      "provenance": []
    }
  },
  "nbformat": 4,
  "nbformat_minor": 0
}